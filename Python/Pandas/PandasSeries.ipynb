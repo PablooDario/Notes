{
 "cells": [
  {
   "cell_type": "markdown",
   "metadata": {},
   "source": [
    "# Pandas Series"
   ]
  },
  {
   "cell_type": "markdown",
   "metadata": {},
   "source": [
    "<img src=\"DataSets/companies.png\" width=\"450px\">"
   ]
  },
  {
   "cell_type": "markdown",
   "metadata": {},
   "source": [
    "Convert the previous image into a Pandas Series"
   ]
  },
  {
   "cell_type": "code",
   "execution_count": 58,
   "metadata": {},
   "outputs": [],
   "source": [
    "import pandas as pd"
   ]
  },
  {
   "cell_type": "code",
   "execution_count": 59,
   "metadata": {},
   "outputs": [
    {
     "data": {
      "text/plain": [
       "Apple                274515\n",
       "Samsung              200734\n",
       "Alphabet             182527\n",
       "Foxconn              181945\n",
       "Microsoft            143015\n",
       "Huawei               129184\n",
       "Dell Technologies     92224\n",
       "Meta                  85965\n",
       "Sony                  84893\n",
       "Hitachi               82345\n",
       "Intel                 77867\n",
       "IBM                   73620\n",
       "Tencent               69864\n",
       "Panasonic             63191\n",
       "Name: Top Technology Companies by Revenue, dtype: int64"
      ]
     },
     "execution_count": 59,
     "metadata": {},
     "output_type": "execute_result"
    }
   ],
   "source": [
    "companies = [\n",
    "    'Apple', 'Samsung', 'Alphabet', 'Foxconn',\n",
    "    'Microsoft', 'Huawei', 'Dell Technologies',\n",
    "    'Meta', 'Sony', 'Hitachi', 'Intel',\n",
    "    'IBM', 'Tencent', 'Panasonic'\n",
    "    ]\n",
    "data =[\n",
    "    274515, 200734, 182527, 181945, 143015,\n",
    "    129184, 92224, 85965, 84893, 82345,\n",
    "    77867, 73620, 69864, 63191\n",
    "    ]\n",
    "s = pd.Series(data,index=companies,name=\"Top Technology Companies by Revenue\")\n",
    "s"
   ]
  },
  {
   "cell_type": "markdown",
   "metadata": {},
   "source": [
    "## Selection and Location"
   ]
  },
  {
   "cell_type": "markdown",
   "metadata": {},
   "source": [
    "### Select by index"
   ]
  },
  {
   "cell_type": "markdown",
   "metadata": {},
   "source": [
    "We can select by index by just use square brackets"
   ]
  },
  {
   "cell_type": "code",
   "execution_count": 60,
   "metadata": {},
   "outputs": [
    {
     "data": {
      "text/plain": [
       "274515"
      ]
     },
     "execution_count": 60,
     "metadata": {},
     "output_type": "execute_result"
    }
   ],
   "source": [
    "s[\"Apple\"]"
   ]
  },
  {
   "cell_type": "markdown",
   "metadata": {},
   "source": [
    "We can also use `.loc` which is the preferred way"
   ]
  },
  {
   "cell_type": "code",
   "execution_count": 61,
   "metadata": {},
   "outputs": [
    {
     "data": {
      "text/plain": [
       "274515"
      ]
     },
     "execution_count": 61,
     "metadata": {},
     "output_type": "execute_result"
    }
   ],
   "source": [
    "s.loc[\"Apple\"]"
   ]
  },
  {
   "cell_type": "markdown",
   "metadata": {},
   "source": [
    "### Select by position"
   ]
  },
  {
   "cell_type": "markdown",
   "metadata": {},
   "source": [
    "We can select elements by their position. After all, Series are ordered data structures. So we can select an element by its position. To select an element by its position, we use the `.iloc` attribute. The beauty of `.iloc` is that, as selection in Python lists, it accepts negative numbers to reference elements from the end of the series. That means that .iloc[-1] returns the LAST element in the series."
   ]
  },
  {
   "cell_type": "code",
   "execution_count": 62,
   "metadata": {},
   "outputs": [
    {
     "data": {
      "text/plain": [
       "274515"
      ]
     },
     "execution_count": 62,
     "metadata": {},
     "output_type": "execute_result"
    }
   ],
   "source": [
    "s.iloc[0]"
   ]
  },
  {
   "cell_type": "code",
   "execution_count": 63,
   "metadata": {},
   "outputs": [
    {
     "data": {
      "text/plain": [
       "63191"
      ]
     },
     "execution_count": 63,
     "metadata": {},
     "output_type": "execute_result"
    }
   ],
   "source": [
    "s.iloc[-1]"
   ]
  },
  {
   "cell_type": "markdown",
   "metadata": {},
   "source": [
    "We can also make use of the `slice` python property"
   ]
  },
  {
   "cell_type": "code",
   "execution_count": 64,
   "metadata": {},
   "outputs": [
    {
     "data": {
      "text/plain": [
       "Samsung              200734\n",
       "Alphabet             182527\n",
       "Foxconn              181945\n",
       "Microsoft            143015\n",
       "Huawei               129184\n",
       "Dell Technologies     92224\n",
       "Meta                  85965\n",
       "Sony                  84893\n",
       "Hitachi               82345\n",
       "Name: Top Technology Companies by Revenue, dtype: int64"
      ]
     },
     "execution_count": 64,
     "metadata": {},
     "output_type": "execute_result"
    }
   ],
   "source": [
    "s.iloc[1:-4]"
   ]
  },
  {
   "cell_type": "markdown",
   "metadata": {},
   "source": [
    "### Check if an element is the Series"
   ]
  },
  {
   "cell_type": "code",
   "execution_count": 65,
   "metadata": {},
   "outputs": [
    {
     "data": {
      "text/plain": [
       "True"
      ]
     },
     "execution_count": 65,
     "metadata": {},
     "output_type": "execute_result"
    }
   ],
   "source": [
    "\"Apple\" in s"
   ]
  },
  {
   "cell_type": "code",
   "execution_count": 66,
   "metadata": {},
   "outputs": [
    {
     "data": {
      "text/plain": [
       "True"
      ]
     },
     "execution_count": 66,
     "metadata": {},
     "output_type": "execute_result"
    }
   ],
   "source": [
    "\"Huawei\" in s"
   ]
  },
  {
   "cell_type": "markdown",
   "metadata": {},
   "source": [
    "But the `in` method only works with the index, not with the values"
   ]
  },
  {
   "cell_type": "code",
   "execution_count": 67,
   "metadata": {},
   "outputs": [
    {
     "data": {
      "text/plain": [
       "False"
      ]
     },
     "execution_count": 67,
     "metadata": {},
     "output_type": "execute_result"
    }
   ],
   "source": [
    "274515 in s"
   ]
  },
  {
   "cell_type": "markdown",
   "metadata": {},
   "source": [
    "### Multiple Selection"
   ]
  },
  {
   "cell_type": "code",
   "execution_count": 68,
   "metadata": {},
   "outputs": [
    {
     "data": {
      "text/plain": [
       "Apple    274515\n",
       "Intel     77867\n",
       "Sony      84893\n",
       "Name: Top Technology Companies by Revenue, dtype: int64"
      ]
     },
     "execution_count": 68,
     "metadata": {},
     "output_type": "execute_result"
    }
   ],
   "source": [
    "s.loc[['Apple', 'Intel', 'Sony']]"
   ]
  },
  {
   "cell_type": "code",
   "execution_count": 69,
   "metadata": {},
   "outputs": [
    {
     "data": {
      "text/plain": [
       "Apple        274515\n",
       "Huawei       129184\n",
       "Panasonic     63191\n",
       "Name: Top Technology Companies by Revenue, dtype: int64"
      ]
     },
     "execution_count": 69,
     "metadata": {},
     "output_type": "execute_result"
    }
   ],
   "source": [
    "s.iloc[[0, 5, -1]]"
   ]
  },
  {
   "cell_type": "markdown",
   "metadata": {},
   "source": [
    "## Activities"
   ]
  },
  {
   "cell_type": "markdown",
   "metadata": {},
   "source": [
    "Select the revenue of `Intel` and store it in a variable named `intel_revenue`:"
   ]
  },
  {
   "cell_type": "code",
   "execution_count": 70,
   "metadata": {},
   "outputs": [
    {
     "data": {
      "text/plain": [
       "77867"
      ]
     },
     "execution_count": 70,
     "metadata": {},
     "output_type": "execute_result"
    }
   ],
   "source": [
    "intel_revenue = s.loc[\"Intel\"]\n",
    "intel_revenue"
   ]
  },
  {
   "cell_type": "markdown",
   "metadata": {},
   "source": [
    "Select the revenue of the \"second to last\" element in our series `s` and store it in a variable named `second_to_last`:"
   ]
  },
  {
   "cell_type": "code",
   "execution_count": 71,
   "metadata": {},
   "outputs": [
    {
     "data": {
      "text/plain": [
       "69864"
      ]
     },
     "execution_count": 71,
     "metadata": {},
     "output_type": "execute_result"
    }
   ],
   "source": [
    "second_to_last = s.iloc[-2]\n",
    "second_to_last"
   ]
  },
  {
   "cell_type": "markdown",
   "metadata": {},
   "source": [
    "Use multiple label selection to retrieve the revenues of the companies:\n",
    "\n",
    "* Samsung\n",
    "* Dell Technologies\n",
    "* Panasonic\n",
    "* Microsoft"
   ]
  },
  {
   "cell_type": "code",
   "execution_count": 72,
   "metadata": {},
   "outputs": [],
   "source": [
    "sub_series = s.loc[[\"Samsung\", \"Dell Technologies\", \"Panasonic\", \"Microsoft\"]]"
   ]
  },
  {
   "cell_type": "markdown",
   "metadata": {},
   "source": [
    "## Series Attributes and Methods"
   ]
  },
  {
   "cell_type": "code",
   "execution_count": 73,
   "metadata": {},
   "outputs": [
    {
     "data": {
      "text/plain": [
       "Apple        274515\n",
       "Samsung      200734\n",
       "Alphabet     182527\n",
       "Foxconn      181945\n",
       "Microsoft    143015\n",
       "Name: Top Technology Companies by Revenue, dtype: int64"
      ]
     },
     "execution_count": 73,
     "metadata": {},
     "output_type": "execute_result"
    }
   ],
   "source": [
    "s.head()"
   ]
  },
  {
   "cell_type": "code",
   "execution_count": 74,
   "metadata": {},
   "outputs": [
    {
     "data": {
      "text/plain": [
       "Hitachi      82345\n",
       "Intel        77867\n",
       "IBM          73620\n",
       "Tencent      69864\n",
       "Panasonic    63191\n",
       "Name: Top Technology Companies by Revenue, dtype: int64"
      ]
     },
     "execution_count": 74,
     "metadata": {},
     "output_type": "execute_result"
    }
   ],
   "source": [
    "s.tail()"
   ]
  },
  {
   "cell_type": "markdown",
   "metadata": {},
   "source": [
    "### Main attributes"
   ]
  },
  {
   "cell_type": "markdown",
   "metadata": {},
   "source": [
    "The underlying data"
   ]
  },
  {
   "cell_type": "code",
   "execution_count": 76,
   "metadata": {},
   "outputs": [
    {
     "data": {
      "text/plain": [
       "array([274515, 200734, 182527, 181945, 143015, 129184,  92224,  85965,\n",
       "        84893,  82345,  77867,  73620,  69864,  63191], dtype=int64)"
      ]
     },
     "execution_count": 76,
     "metadata": {},
     "output_type": "execute_result"
    }
   ],
   "source": [
    "s.values"
   ]
  },
  {
   "cell_type": "markdown",
   "metadata": {},
   "source": [
    "The index"
   ]
  },
  {
   "cell_type": "code",
   "execution_count": 77,
   "metadata": {},
   "outputs": [
    {
     "data": {
      "text/plain": [
       "Index(['Apple', 'Samsung', 'Alphabet', 'Foxconn', 'Microsoft', 'Huawei',\n",
       "       'Dell Technologies', 'Meta', 'Sony', 'Hitachi', 'Intel', 'IBM',\n",
       "       'Tencent', 'Panasonic'],\n",
       "      dtype='object')"
      ]
     },
     "execution_count": 77,
     "metadata": {},
     "output_type": "execute_result"
    }
   ],
   "source": [
    "s.index"
   ]
  },
  {
   "cell_type": "markdown",
   "metadata": {},
   "source": [
    "The name (if any)"
   ]
  },
  {
   "cell_type": "code",
   "execution_count": 78,
   "metadata": {},
   "outputs": [
    {
     "data": {
      "text/plain": [
       "'Top Technology Companies by Revenue'"
      ]
     },
     "execution_count": 78,
     "metadata": {},
     "output_type": "execute_result"
    }
   ],
   "source": [
    "s.name"
   ]
  },
  {
   "cell_type": "markdown",
   "metadata": {},
   "source": [
    "The type associated with the values:"
   ]
  },
  {
   "cell_type": "code",
   "execution_count": 79,
   "metadata": {},
   "outputs": [
    {
     "data": {
      "text/plain": [
       "dtype('int64')"
      ]
     },
     "execution_count": 79,
     "metadata": {},
     "output_type": "execute_result"
    }
   ],
   "source": [
    "s.dtype"
   ]
  },
  {
   "cell_type": "markdown",
   "metadata": {},
   "source": [
    "The size of the Series:"
   ]
  },
  {
   "cell_type": "code",
   "execution_count": 80,
   "metadata": {},
   "outputs": [
    {
     "name": "stdout",
     "output_type": "stream",
     "text": [
      "14\n",
      "(14,)\n"
     ]
    },
    {
     "data": {
      "text/plain": [
       "14"
      ]
     },
     "execution_count": 80,
     "metadata": {},
     "output_type": "execute_result"
    }
   ],
   "source": [
    "print(s.size)\n",
    "print(s.shape)\n",
    "len(s)"
   ]
  },
  {
   "cell_type": "markdown",
   "metadata": {},
   "source": [
    "### Statistical Merhods"
   ]
  },
  {
   "cell_type": "code",
   "execution_count": 81,
   "metadata": {},
   "outputs": [
    {
     "data": {
      "text/plain": [
       "count        14.000000\n",
       "mean     124420.642857\n",
       "std       63686.481231\n",
       "min       63191.000000\n",
       "25%       78986.500000\n",
       "50%       89094.500000\n",
       "75%      172212.500000\n",
       "max      274515.000000\n",
       "Name: Top Technology Companies by Revenue, dtype: float64"
      ]
     },
     "execution_count": 81,
     "metadata": {},
     "output_type": "execute_result"
    }
   ],
   "source": [
    "s.describe()"
   ]
  },
  {
   "cell_type": "code",
   "execution_count": 82,
   "metadata": {},
   "outputs": [
    {
     "data": {
      "text/plain": [
       "124420.64285714286"
      ]
     },
     "execution_count": 82,
     "metadata": {},
     "output_type": "execute_result"
    }
   ],
   "source": [
    "s.mean()"
   ]
  },
  {
   "cell_type": "code",
   "execution_count": 83,
   "metadata": {},
   "outputs": [
    {
     "data": {
      "text/plain": [
       "89094.5"
      ]
     },
     "execution_count": 83,
     "metadata": {},
     "output_type": "execute_result"
    }
   ],
   "source": [
    "s.median()"
   ]
  },
  {
   "cell_type": "code",
   "execution_count": 84,
   "metadata": {},
   "outputs": [
    {
     "data": {
      "text/plain": [
       "63686.48123135607"
      ]
     },
     "execution_count": 84,
     "metadata": {},
     "output_type": "execute_result"
    }
   ],
   "source": [
    "s.std()"
   ]
  },
  {
   "cell_type": "code",
   "execution_count": 85,
   "metadata": {},
   "outputs": [
    {
     "data": {
      "text/plain": [
       "(63191, 274515)"
      ]
     },
     "execution_count": 85,
     "metadata": {},
     "output_type": "execute_result"
    }
   ],
   "source": [
    "s.min(), s.max()"
   ]
  },
  {
   "cell_type": "code",
   "execution_count": 86,
   "metadata": {},
   "outputs": [
    {
     "data": {
      "text/plain": [
       "172212.5"
      ]
     },
     "execution_count": 86,
     "metadata": {},
     "output_type": "execute_result"
    }
   ],
   "source": [
    "s.quantile(.75)"
   ]
  },
  {
   "cell_type": "code",
   "execution_count": 87,
   "metadata": {},
   "outputs": [
    {
     "data": {
      "text/plain": [
       "264923.47"
      ]
     },
     "execution_count": 87,
     "metadata": {},
     "output_type": "execute_result"
    }
   ],
   "source": [
    "s.quantile(.99)"
   ]
  },
  {
   "cell_type": "markdown",
   "metadata": {},
   "source": [
    "## Activities"
   ]
  },
  {
   "cell_type": "code",
   "execution_count": 88,
   "metadata": {},
   "outputs": [
    {
     "data": {
      "text/plain": [
       "Meta                  85965\n",
       "IBM                   73620\n",
       "Microsoft            143015\n",
       "Dell Technologies     92224\n",
       "Apple                274515\n",
       "Intel                 77867\n",
       "Alphabet             182527\n",
       "Name: Top Technology Companies by Revenue, dtype: int64"
      ]
     },
     "execution_count": 88,
     "metadata": {},
     "output_type": "execute_result"
    }
   ],
   "source": [
    "american_companies = s[[\n",
    "    'Meta', 'IBM', 'Microsoft',\n",
    "    'Dell Technologies', 'Apple', 'Intel', 'Alphabet'\n",
    "]]\n",
    "american_companies"
   ]
  },
  {
   "cell_type": "markdown",
   "metadata": {},
   "source": [
    "What's the average revenue of American Companies?"
   ]
  },
  {
   "cell_type": "code",
   "execution_count": 89,
   "metadata": {},
   "outputs": [
    {
     "data": {
      "text/plain": [
       "132819.0"
      ]
     },
     "execution_count": 89,
     "metadata": {},
     "output_type": "execute_result"
    }
   ],
   "source": [
    "american_companies.mean()"
   ]
  },
  {
   "cell_type": "markdown",
   "metadata": {},
   "source": [
    "What's the median revenue of American Companies?"
   ]
  },
  {
   "cell_type": "code",
   "execution_count": 90,
   "metadata": {},
   "outputs": [
    {
     "data": {
      "text/plain": [
       "92224.0"
      ]
     },
     "execution_count": 90,
     "metadata": {},
     "output_type": "execute_result"
    }
   ],
   "source": [
    "american_companies.median()"
   ]
  },
  {
   "cell_type": "markdown",
   "metadata": {},
   "source": [
    "## Sorting Series"
   ]
  },
  {
   "cell_type": "markdown",
   "metadata": {},
   "source": [
    "Sorting by values (Ascending)"
   ]
  },
  {
   "cell_type": "code",
   "execution_count": 91,
   "metadata": {},
   "outputs": [
    {
     "data": {
      "text/plain": [
       "Panasonic             63191\n",
       "Tencent               69864\n",
       "IBM                   73620\n",
       "Intel                 77867\n",
       "Hitachi               82345\n",
       "Sony                  84893\n",
       "Meta                  85965\n",
       "Dell Technologies     92224\n",
       "Huawei               129184\n",
       "Microsoft            143015\n",
       "Foxconn              181945\n",
       "Alphabet             182527\n",
       "Samsung              200734\n",
       "Apple                274515\n",
       "Name: Top Technology Companies by Revenue, dtype: int64"
      ]
     },
     "execution_count": 91,
     "metadata": {},
     "output_type": "execute_result"
    }
   ],
   "source": [
    "s.sort_values()"
   ]
  },
  {
   "cell_type": "markdown",
   "metadata": {},
   "source": [
    "Sorting by index (lexicographically and ascending)"
   ]
  },
  {
   "cell_type": "code",
   "execution_count": 92,
   "metadata": {},
   "outputs": [
    {
     "data": {
      "text/plain": [
       "Alphabet             182527\n",
       "Apple                274515\n",
       "Dell Technologies     92224\n",
       "Foxconn              181945\n",
       "Hitachi               82345\n",
       "Huawei               129184\n",
       "IBM                   73620\n",
       "Intel                 77867\n",
       "Meta                  85965\n",
       "Microsoft            143015\n",
       "Panasonic             63191\n",
       "Samsung              200734\n",
       "Sony                  84893\n",
       "Tencent               69864\n",
       "Name: Top Technology Companies by Revenue, dtype: int64"
      ]
     },
     "execution_count": 92,
     "metadata": {},
     "output_type": "execute_result"
    }
   ],
   "source": [
    "s.sort_index()"
   ]
  },
  {
   "cell_type": "markdown",
   "metadata": {},
   "source": [
    "Sort in descending order"
   ]
  },
  {
   "cell_type": "code",
   "execution_count": 93,
   "metadata": {},
   "outputs": [
    {
     "data": {
      "text/plain": [
       "Apple                274515\n",
       "Samsung              200734\n",
       "Alphabet             182527\n",
       "Foxconn              181945\n",
       "Microsoft            143015\n",
       "Huawei               129184\n",
       "Dell Technologies     92224\n",
       "Meta                  85965\n",
       "Sony                  84893\n",
       "Hitachi               82345\n",
       "Intel                 77867\n",
       "IBM                   73620\n",
       "Tencent               69864\n",
       "Panasonic             63191\n",
       "Name: Top Technology Companies by Revenue, dtype: int64"
      ]
     },
     "execution_count": 93,
     "metadata": {},
     "output_type": "execute_result"
    }
   ],
   "source": [
    "s.sort_values(ascending=False)"
   ]
  },
  {
   "cell_type": "code",
   "execution_count": 94,
   "metadata": {},
   "outputs": [
    {
     "data": {
      "text/plain": [
       "Tencent               69864\n",
       "Sony                  84893\n",
       "Samsung              200734\n",
       "Panasonic             63191\n",
       "Microsoft            143015\n",
       "Meta                  85965\n",
       "Intel                 77867\n",
       "IBM                   73620\n",
       "Huawei               129184\n",
       "Hitachi               82345\n",
       "Foxconn              181945\n",
       "Dell Technologies     92224\n",
       "Apple                274515\n",
       "Alphabet             182527\n",
       "Name: Top Technology Companies by Revenue, dtype: int64"
      ]
     },
     "execution_count": 94,
     "metadata": {},
     "output_type": "execute_result"
    }
   ],
   "source": [
    "s.sort_index(ascending=False)"
   ]
  },
  {
   "cell_type": "markdown",
   "metadata": {},
   "source": [
    "## Inmutabilty "
   ]
  },
  {
   "cell_type": "markdown",
   "metadata": {},
   "source": [
    "If by any chance, you DO want to mutate your series, in this case, you want to sort it and alter the underlying series (in s in this case), you must pass the inplace=True attribute. When doing so, you'll see that this time the method doesn't return anything, but the underlying series (in s has changed) to contain the data in the order required."
   ]
  },
  {
   "cell_type": "code",
   "execution_count": 95,
   "metadata": {},
   "outputs": [
    {
     "data": {
      "text/plain": [
       "Apple        274515\n",
       "Samsung      200734\n",
       "Alphabet     182527\n",
       "Foxconn      181945\n",
       "Microsoft    143015\n",
       "Name: Top Technology Companies by Revenue, dtype: int64"
      ]
     },
     "execution_count": 95,
     "metadata": {},
     "output_type": "execute_result"
    }
   ],
   "source": [
    "s.head()"
   ]
  },
  {
   "cell_type": "code",
   "execution_count": 96,
   "metadata": {},
   "outputs": [],
   "source": [
    "s.sort_values(inplace=True)"
   ]
  },
  {
   "cell_type": "code",
   "execution_count": 97,
   "metadata": {},
   "outputs": [
    {
     "data": {
      "text/plain": [
       "Panasonic    63191\n",
       "Tencent      69864\n",
       "IBM          73620\n",
       "Intel        77867\n",
       "Hitachi      82345\n",
       "Name: Top Technology Companies by Revenue, dtype: int64"
      ]
     },
     "execution_count": 97,
     "metadata": {},
     "output_type": "execute_result"
    }
   ],
   "source": [
    "s.head()"
   ]
  },
  {
   "cell_type": "markdown",
   "metadata": {},
   "source": [
    "## Modifying Series"
   ]
  },
  {
   "cell_type": "code",
   "execution_count": 98,
   "metadata": {},
   "outputs": [],
   "source": [
    "s['IBM'] = 0"
   ]
  },
  {
   "cell_type": "code",
   "execution_count": 99,
   "metadata": {},
   "outputs": [
    {
     "data": {
      "text/plain": [
       "IBM              0\n",
       "Panasonic    63191\n",
       "Tencent      69864\n",
       "Intel        77867\n",
       "Hitachi      82345\n",
       "Name: Top Technology Companies by Revenue, dtype: int64"
      ]
     },
     "execution_count": 99,
     "metadata": {},
     "output_type": "execute_result"
    }
   ],
   "source": [
    "s.sort_values().head()"
   ]
  },
  {
   "cell_type": "markdown",
   "metadata": {},
   "source": [
    "Adding elements"
   ]
  },
  {
   "cell_type": "code",
   "execution_count": 100,
   "metadata": {},
   "outputs": [],
   "source": [
    "s[\"Tesla\"] = 21450"
   ]
  },
  {
   "cell_type": "code",
   "execution_count": 101,
   "metadata": {},
   "outputs": [
    {
     "data": {
      "text/plain": [
       "IBM              0\n",
       "Tesla        21450\n",
       "Panasonic    63191\n",
       "Tencent      69864\n",
       "Intel        77867\n",
       "Name: Top Technology Companies by Revenue, dtype: int64"
      ]
     },
     "execution_count": 101,
     "metadata": {},
     "output_type": "execute_result"
    }
   ],
   "source": [
    "s.sort_values().head()"
   ]
  },
  {
   "cell_type": "markdown",
   "metadata": {},
   "source": [
    "Removing Elements"
   ]
  },
  {
   "cell_type": "code",
   "execution_count": 102,
   "metadata": {},
   "outputs": [],
   "source": [
    "del s['Tesla']"
   ]
  },
  {
   "cell_type": "code",
   "execution_count": 103,
   "metadata": {},
   "outputs": [
    {
     "data": {
      "text/plain": [
       "IBM              0\n",
       "Panasonic    63191\n",
       "Tencent      69864\n",
       "Intel        77867\n",
       "Hitachi      82345\n",
       "Name: Top Technology Companies by Revenue, dtype: int64"
      ]
     },
     "execution_count": 103,
     "metadata": {},
     "output_type": "execute_result"
    }
   ],
   "source": [
    "s.sort_values().head()"
   ]
  },
  {
   "cell_type": "markdown",
   "metadata": {},
   "source": [
    "## Concatening Series"
   ]
  },
  {
   "cell_type": "markdown",
   "metadata": {},
   "source": [
    "We can \"concatenate\" series to other series using the `.concat()` method s.concat([dataframe1, dataframe2, ..., dataframeN]), the method returns a new series or dataframe with the values of the two series/dataframe concatenated."
   ]
  },
  {
   "cell_type": "code",
   "execution_count": 104,
   "metadata": {},
   "outputs": [],
   "source": [
    "s2 = pd.Series([21_450, 4_120], index=['Tesla', 'Snapchat'])"
   ]
  },
  {
   "cell_type": "code",
   "execution_count": 105,
   "metadata": {},
   "outputs": [
    {
     "data": {
      "text/plain": [
       "Panasonic             63191\n",
       "Tencent               69864\n",
       "IBM                       0\n",
       "Intel                 77867\n",
       "Hitachi               82345\n",
       "Sony                  84893\n",
       "Meta                  85965\n",
       "Dell Technologies     92224\n",
       "Huawei               129184\n",
       "Microsoft            143015\n",
       "Foxconn              181945\n",
       "Alphabet             182527\n",
       "Samsung              200734\n",
       "Apple                274515\n",
       "Tesla                 21450\n",
       "Snapchat               4120\n",
       "dtype: int64"
      ]
     },
     "execution_count": 105,
     "metadata": {},
     "output_type": "execute_result"
    }
   ],
   "source": [
    "new_s = pd.concat([s,s2])\n",
    "new_s"
   ]
  }
 ],
 "metadata": {
  "kernelspec": {
   "display_name": "Python 3",
   "language": "python",
   "name": "python3"
  },
  "language_info": {
   "codemirror_mode": {
    "name": "ipython",
    "version": 3
   },
   "file_extension": ".py",
   "mimetype": "text/x-python",
   "name": "python",
   "nbconvert_exporter": "python",
   "pygments_lexer": "ipython3",
   "version": "3.10.6"
  }
 },
 "nbformat": 4,
 "nbformat_minor": 2
}
