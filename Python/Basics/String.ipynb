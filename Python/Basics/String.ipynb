{
 "cells": [
  {
   "cell_type": "markdown",
   "metadata": {},
   "source": [
    "# Strings and Functions in Python"
   ]
  },
  {
   "cell_type": "markdown",
   "metadata": {},
   "source": [
    "## Print\n",
    "\n",
    "La función print acepta varios parametros para personalizar la forma en que queremos imprimir en pantalla los datos deseados; su estructura por default es la siguiente:\n",
    "\n",
    "print(*objects, sep=' ', end='\\n',)\n",
    "\n",
    "Lo cual el primer parámetro nos indica que recibe $n$ datos, el segundo es el separador entre los datos que pasamos como primer parámetro y el último nos indica cuál va ser el carácter final de esa impresión en pantalla."
   ]
  },
  {
   "cell_type": "code",
   "execution_count": 2,
   "metadata": {},
   "outputs": [
    {
     "name": "stdout",
     "output_type": "stream",
     "text": [
      "Hola-Mundo*"
     ]
    }
   ],
   "source": [
    "print(\"Hola\", \"Mundo\", sep=\"-\", end='*')"
   ]
  },
  {
   "cell_type": "markdown",
   "metadata": {},
   "source": [
    "**Hacer que dos impresiones en pantalla se impriman en una misma linea**"
   ]
  },
  {
   "cell_type": "code",
   "execution_count": 4,
   "metadata": {},
   "outputs": [
    {
     "name": "stdout",
     "output_type": "stream",
     "text": [
      "Hola Mundo\n"
     ]
    }
   ],
   "source": [
    "print(\"Hola\", end=\" \")\n",
    "print(\"Mundo\")"
   ]
  }
 ],
 "metadata": {
  "kernelspec": {
   "display_name": "Python 3",
   "language": "python",
   "name": "python3"
  },
  "language_info": {
   "codemirror_mode": {
    "name": "ipython",
    "version": 3
   },
   "file_extension": ".py",
   "mimetype": "text/x-python",
   "name": "python",
   "nbconvert_exporter": "python",
   "pygments_lexer": "ipython3",
   "version": "3.10.6"
  }
 },
 "nbformat": 4,
 "nbformat_minor": 2
}
