{
 "cells": [
  {
   "cell_type": "markdown",
   "metadata": {},
   "source": [
    "# Strings and Functions in Python"
   ]
  },
  {
   "cell_type": "markdown",
   "metadata": {},
   "source": [
    "## Strings\n",
    "\n",
    "Las cadenas en Python como en muchos otros lenguajes son arreglos, por lo cual se puede acceder a sus elementos a través de los corchetes."
   ]
  },
  {
   "cell_type": "code",
   "execution_count": 1,
   "metadata": {},
   "outputs": [
    {
     "name": "stdout",
     "output_type": "stream",
     "text": [
      "o\n"
     ]
    }
   ],
   "source": [
    "a = \"Hello World\"\n",
    "print(a[4])"
   ]
  },
  {
   "cell_type": "markdown",
   "metadata": {},
   "source": [
    "### Slicing\n",
    "\n",
    "Podemos hacer uso de la propiedad slicing que Python nos brinda a ciertos tipos de datos, hay que recordar que los corchetes son inclusivos-exclusivos [a-b)"
   ]
  },
  {
   "cell_type": "code",
   "execution_count": 3,
   "metadata": {},
   "outputs": [
    {
     "name": "stdout",
     "output_type": "stream",
     "text": [
      "llo\n"
     ]
    }
   ],
   "source": [
    "b = \"Hello, World!\"\n",
    "print(b[2:5])"
   ]
  },
  {
   "cell_type": "markdown",
   "metadata": {},
   "source": [
    "También podemos acceder a cada uno de sus elementos a través de un `for` loop"
   ]
  },
  {
   "cell_type": "code",
   "execution_count": 2,
   "metadata": {},
   "outputs": [
    {
     "name": "stdout",
     "output_type": "stream",
     "text": [
      "b a n a n a "
     ]
    }
   ],
   "source": [
    "for x in \"banana\":\n",
    "    print(x, end=' ')"
   ]
  },
  {
   "cell_type": "markdown",
   "metadata": {},
   "source": [
    "### Methods"
   ]
  },
  {
   "cell_type": "markdown",
   "metadata": {},
   "source": [
    "- **.capitalize()** $\\leadsto$ Convierte el primer carácter a mayúscula\n",
    "- **.title()** $\\leadsto$ Convierte el primer carácter de cada palabra en mayúscula\n",
    "- **.count('x')** $\\leadsto$ Cuenta todas las apariciones de un elemento en el string\n",
    "- **.endswith('x')** $\\leadsto$ Regresa un valor verdadero si el string termina con un valor específico\n",
    "- **.startswith('x')** $\\leadsto$ Regresa verdadero si la cadena inicia con un valor específico\n",
    "- **.find('x')** $\\leadsto$ Regresa la primera posición de un valor deseado si es que se encuentra en el string, si no, regresa -1\n",
    "- **.strip()** $\\leadsto$ Elimina los espacios en blanco del inicio y final de la cadena\n",
    "- **.split(optional)** $\\leadsto$ Separa los elementos de la cadena por un valor dado y los regresa en forma de lista\n",
    "- **.isalnum()** $\\leadsto$ Regresa verdadero si todos los elementos de la cadena son alfanuméricos\n",
    "- **.isnumeric()** $\\leadsto$ Regresa verdadero si todos los elementos de la cadena son numericos \n",
    "- **.isalpha()** $\\leadsto$ Regresa verdadero si todos los elementos de la cadena son letras o están en el alfabeto inglés"
   ]
  },
  {
   "cell_type": "code",
   "execution_count": 14,
   "metadata": {},
   "outputs": [
    {
     "name": "stdout",
     "output_type": "stream",
     "text": [
      "['hello', 'my name is Peter', 'I am 26 years old']\n"
     ]
    }
   ],
   "source": [
    "txt = \"hello # my name is Peter # I am 26 years old\"\n",
    "x = txt.split(\" # \")\n",
    "print(x)"
   ]
  },
  {
   "cell_type": "markdown",
   "metadata": {},
   "source": [
    "## Print\n",
    "\n",
    "La función print acepta varios parametros para personalizar la forma en que queremos imprimir en pantalla los datos deseados; su estructura por default es la siguiente:\n",
    "\n",
    "`print(*objects, sep=' ', end='\\n',)`\n",
    "\n",
    "Lo cual el primer parámetro nos indica que recibe $n$ datos, el segundo es el separador entre los datos que pasamos como primer parámetro y el último nos indica cuál va ser el carácter final de esa impresión en pantalla."
   ]
  },
  {
   "cell_type": "code",
   "execution_count": 2,
   "metadata": {},
   "outputs": [
    {
     "name": "stdout",
     "output_type": "stream",
     "text": [
      "Hola-Mundo*"
     ]
    }
   ],
   "source": [
    "print(\"Hola\", \"Mundo\", sep=\"-\", end='*')"
   ]
  },
  {
   "cell_type": "markdown",
   "metadata": {},
   "source": [
    "**Hacer que dos impresiones en pantalla se impriman en una misma linea**"
   ]
  },
  {
   "cell_type": "code",
   "execution_count": 4,
   "metadata": {},
   "outputs": [
    {
     "name": "stdout",
     "output_type": "stream",
     "text": [
      "Hola Mundo\n"
     ]
    }
   ],
   "source": [
    "print(\"Hola\", end=\" \")\n",
    "print(\"Mundo\")"
   ]
  }
 ],
 "metadata": {
  "kernelspec": {
   "display_name": "Python 3",
   "language": "python",
   "name": "python3"
  },
  "language_info": {
   "codemirror_mode": {
    "name": "ipython",
    "version": 3
   },
   "file_extension": ".py",
   "mimetype": "text/x-python",
   "name": "python",
   "nbconvert_exporter": "python",
   "pygments_lexer": "ipython3",
   "version": "3.10.6"
  }
 },
 "nbformat": 4,
 "nbformat_minor": 2
}
